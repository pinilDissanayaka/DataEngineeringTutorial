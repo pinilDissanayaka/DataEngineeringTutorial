{
 "cells": [
  {
   "cell_type": "code",
   "execution_count": 36,
   "id": "82f8cf9e",
   "metadata": {},
   "outputs": [],
   "source": [
    "from mysql import connector"
   ]
  },
  {
   "cell_type": "code",
   "execution_count": 64,
   "id": "8e83f2be",
   "metadata": {},
   "outputs": [],
   "source": [
    "try:\n",
    "    con = connector.connect(\n",
    "      host=\"localhost\",\n",
    "      user=\"root\",\n",
    "      password=\"\"\n",
    "    )\n",
    "except connector.Error as e:\n",
    "    print(\"Could't connect MySQL database\")\n",
    "    print(e)"
   ]
  },
  {
   "cell_type": "code",
   "execution_count": 65,
   "id": "50baeadd",
   "metadata": {},
   "outputs": [
    {
     "name": "stdout",
     "output_type": "stream",
     "text": [
      "<mysql.connector.connection_cext.CMySQLConnection object at 0x0000011515FAD010>\n"
     ]
    }
   ],
   "source": [
    "print(con)"
   ]
  },
  {
   "cell_type": "code",
   "execution_count": 70,
   "id": "5374671a",
   "metadata": {},
   "outputs": [
    {
     "name": "stdout",
     "output_type": "stream",
     "text": [
      "Couldn't create database.\n",
      "Connection close status : False\n"
     ]
    }
   ],
   "source": [
    "try:\n",
    "    curr=con.cursor()\n",
    "    curr.execute('''CREATE DATABASE IF NOT EXISTS School;''')\n",
    "except:\n",
    "    print(\"Couldn't create database.\")\n",
    "finally:\n",
    "    status=curr.close()\n",
    "    print(f\"Connection close status : {status}\")"
   ]
  },
  {
   "cell_type": "code",
   "execution_count": 74,
   "id": "82a7cf69",
   "metadata": {},
   "outputs": [],
   "source": [
    "try:\n",
    "    con.close()\n",
    "except connector.Error as e:\n",
    "    print(e)"
   ]
  },
  {
   "cell_type": "code",
   "execution_count": 75,
   "id": "fcad3248",
   "metadata": {},
   "outputs": [],
   "source": [
    "try:\n",
    "    con = connector.connect(\n",
    "      host=\"localhost\",\n",
    "      user=\"root\",\n",
    "      password=\"\",\n",
    "      database=\"School\"\n",
    "        \n",
    "    )\n",
    "except connector.Error as e:\n",
    "    print(\"Could't connect MySQL database\")\n",
    "    print(e)"
   ]
  },
  {
   "cell_type": "code",
   "execution_count": 80,
   "id": "229ad079",
   "metadata": {},
   "outputs": [
    {
     "name": "stdout",
     "output_type": "stream",
     "text": [
      "Connection close status : True\n"
     ]
    }
   ],
   "source": [
    "try:\n",
    "    curr=con.cursor()\n",
    "    curr.execute('''CREATE TABLE IF NOT EXISTS Student(\n",
    "                studentId INT(5),\n",
    "                studentName VARCHAR(25),\n",
    "                age INT(3), \n",
    "                gender VARCHAR(5), \n",
    "                subject VARCHAR(6), \n",
    "                marks INT(3));''')\n",
    "except:\n",
    "    print(\"Couldn't create table.\")\n",
    "finally:\n",
    "    status=curr.close()\n",
    "    print(f\"Connection close status : {status}\")"
   ]
  },
  {
   "cell_type": "code",
   "execution_count": 81,
   "id": "37bb2a3c",
   "metadata": {},
   "outputs": [],
   "source": [
    "try:\n",
    "    curr=con.cursor()\n",
    "    curr.execute('''INSERT INTO Student VALUES\n",
    "                    (1, \"Kamal\", 18, \"Male\", \"English\", 86);''')\n",
    "except:\n",
    "    print(\"couldn't insert values.\")\n",
    "finally:\n",
    "    curr.close()"
   ]
  },
  {
   "cell_type": "code",
   "execution_count": 82,
   "id": "5c112dd7",
   "metadata": {},
   "outputs": [],
   "source": [
    "curr.close()\n",
    "con.close()"
   ]
  }
 ],
 "metadata": {
  "kernelspec": {
   "display_name": "Python 3 (ipykernel)",
   "language": "python",
   "name": "python3"
  },
  "language_info": {
   "codemirror_mode": {
    "name": "ipython",
    "version": 3
   },
   "file_extension": ".py",
   "mimetype": "text/x-python",
   "name": "python",
   "nbconvert_exporter": "python",
   "pygments_lexer": "ipython3",
   "version": "3.11.5"
  }
 },
 "nbformat": 4,
 "nbformat_minor": 5
}
