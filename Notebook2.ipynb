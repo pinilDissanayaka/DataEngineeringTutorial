{
 "cells": [
  {
   "cell_type": "code",
   "execution_count": 2,
   "id": "35ce5c96",
   "metadata": {},
   "outputs": [],
   "source": [
    "from mysql import connector\n",
    "import pandas as pd"
   ]
  },
  {
   "cell_type": "code",
   "execution_count": 3,
   "id": "e19fc6f6",
   "metadata": {},
   "outputs": [],
   "source": [
    "try:\n",
    "    con=connector.connect(\n",
    "                          host=\"localhost\",\n",
    "                          user=\"root\",\n",
    "                          password=\"\"\n",
    "                )\n",
    "except connector.Error as e:\n",
    "    print(e)"
   ]
  },
  {
   "cell_type": "code",
   "execution_count": 4,
   "id": "395937bf",
   "metadata": {},
   "outputs": [],
   "source": [
    "def createTable(con):\n",
    "    pass"
   ]
  },
  {
   "cell_type": "code",
   "execution_count": null,
   "id": "c70d8aba",
   "metadata": {},
   "outputs": [],
   "source": []
  }
 ],
 "metadata": {
  "kernelspec": {
   "display_name": "Python 3 (ipykernel)",
   "language": "python",
   "name": "python3"
  },
  "language_info": {
   "codemirror_mode": {
    "name": "ipython",
    "version": 3
   },
   "file_extension": ".py",
   "mimetype": "text/x-python",
   "name": "python",
   "nbconvert_exporter": "python",
   "pygments_lexer": "ipython3",
   "version": "3.11.5"
  }
 },
 "nbformat": 4,
 "nbformat_minor": 5
}
